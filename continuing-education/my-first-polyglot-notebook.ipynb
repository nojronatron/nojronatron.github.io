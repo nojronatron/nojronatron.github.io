{
 "cells": [
  {
   "cell_type": "markdown",
   "metadata": {},
   "source": [
    "## My First Polyglot Notebook\n",
    "\n",
    "This page is dedicated to my notes while starting out using Polyglot Notebooks.\n",
    "\n",
    "The code cells in this notebook might not work, or have other issues, and that is :ok:. At some point in the future I may come back to this an fix things up. Until then, this is an experimental playspace."
   ]
  },
  {
   "cell_type": "code",
   "execution_count": null,
   "metadata": {
    "dotnet_interactive": {
     "language": "csharp"
    },
    "polyglot_notebook": {
     "kernelName": "csharp"
    }
   },
   "outputs": [],
   "source": [
    "string name = \"Nojronatron\";\n",
    "Console.WriteLine($\"Hello, {name}!\");"
   ]
  },
  {
   "cell_type": "markdown",
   "metadata": {},
   "source": [
    "Take a peek at the Github Repo [dotnet interactive](https://github.com/dotnet/interactive) for details on this project, issues, and how to contribute.\n",
    "\n",
    "For documentation, review [donnet interactive docs](https://github.com/dotnet/interactive/tree/main/docs) where there is a FAW, and multiple markdown files with instructions.\n",
    "\n",
    "It might be helpful to also read [Essential .NET - C# Scripting](https://learn.microsoft.com/en-us/archive/msdn-magazine/2016/january/essential-net-csharp-scripting) by Mark Michaelis (January 2016) for further insights into how to write and operate C# within Polyglot Notebooks."
   ]
  },
  {
   "cell_type": "markdown",
   "metadata": {},
   "source": [
    "Yay, my first C# code in a Polyglot Notebook!"
   ]
  },
  {
   "cell_type": "code",
   "execution_count": null,
   "metadata": {
    "dotnet_interactive": {
     "language": "csharp"
    },
    "polyglot_notebook": {
     "kernelName": "csharp"
    }
   },
   "outputs": [],
   "source": [
    "public class MyLinkedListNode\n",
    "{\n",
    "  public MyLinkedListNode Next; // nullable\n",
    "  public int Data;\n",
    "}\n",
    "\n",
    "MyLinkedListNode myLinkedListNode = new();\n",
    "myLinkedListNode.Data = 42;\n",
    "myLinkedListNode"
   ]
  },
  {
   "cell_type": "markdown",
   "metadata": {},
   "source": [
    "Polyglot Notebooks requires DotNet Interactive."
   ]
  },
  {
   "cell_type": "markdown",
   "metadata": {},
   "source": [
    "Use MyLinkedList to manage data, like an ordered list. It is fairly easy to set items into a linked list in some defined order."
   ]
  },
  {
   "cell_type": "code",
   "execution_count": null,
   "metadata": {
    "dotnet_interactive": {
     "language": "csharp"
    },
    "polyglot_notebook": {
     "kernelName": "csharp"
    }
   },
   "outputs": [],
   "source": [
    "public class MyLinkedListNode\n",
    "{\n",
    "  public MyLinkedListNode Next; // nullable\n",
    "  public int Data;\n",
    "}\n",
    "\n",
    "public class MyLinkedList\n",
    "{\n",
    "  public MyLinkedListNode Head;\n",
    "  public bool IsEmpty => Head == null; // nullable\n",
    "  public void InsertSorted(int value)\n",
    "  {\n",
    "    if (Head is null)\n",
    "    {\n",
    "      Head = new MyLinkedListNode()\n",
    "      {\n",
    "        Data = value\n",
    "      };\n",
    "    }\n",
    "    else\n",
    "    {\n",
    "      var current = Head;\n",
    "      MyLinkedListNode newNode = new()\n",
    "      {\n",
    "        Data = value\n",
    "      };\n",
    "      MyLinkedListNode previous = null;\n",
    "      while (current != null && current.Data <= value)\n",
    "      {\n",
    "        if (current.Data == value)\n",
    "        {\n",
    "          MyLinkedListNode temp = current.Next;\n",
    "          newNode.Next = current.Next;\n",
    "          current.Next = newNode;\n",
    "          return;          \n",
    "        }\n",
    "        if (current.Data > value)\n",
    "        {\n",
    "          previous.Next = newNode;\n",
    "          newNode.Next = current;\n",
    "          return;\n",
    "        }\n",
    "        current = current.Next;\n",
    "        previous = current;\n",
    "      }\n",
    "      // if we make it here, we are at the end of the list\n",
    "      current.Next = newNode;\n",
    "      return;\n",
    "    }\n",
    "  }\n",
    "}\n",
    "\n",
    "MyLinkedList myLinkedList = new();\n",
    "myLinkedList.InsertSorted(43);\n",
    "#!set --value @csharp:MyLinkedListNode --name myLinkedListNode\n",
    "myLinkedList.InsertSorted(myLinkedListNode.Data);\n",
    "myLinkedList"
   ]
  },
  {
   "cell_type": "markdown",
   "metadata": {},
   "source": [
    "Any time a caller calls `InsertSorted(node)`, the values are compared using the default comparer, and inserted using a stable algorithm.\n",
    "\n",
    "When it is time to return a sorted list of elements, just walk the Linked List, copy the value of each Node along the way, storing them into an array or printable string or whatever is needed.\n",
    "\n",
    "Running a `Console.WriteLine()` is simple, but moving values between Code Cells requires use of Polyglot Notebooks syntax such as `Expressions` and `Magic Commands`. It's not obvious, so later on in this notebook I've outlined some of what I have learned."
   ]
  },
  {
   "cell_type": "markdown",
   "metadata": {},
   "source": [
    "I've not written any Data Structures using PowerShell before, so I'd thought I suffer through doing it once, with the example of a Singly Linked List as a starter."
   ]
  },
  {
   "cell_type": "code",
   "execution_count": null,
   "metadata": {
    "dotnet_interactive": {
     "language": "pwsh"
    },
    "polyglot_notebook": {
     "kernelName": "pwsh"
    }
   },
   "outputs": [],
   "source": [
    "$mySinlgyLinkedList = [PSCustomObject]@{\n",
    "  Head = $null\n",
    "}\n",
    "$myLLNode = [PSCustomObject]@{\n",
    "  Next = $null\n",
    "}\n",
    "$myLLNode | Add-Member -MemberType NoteProperty -Name Data -Value 5\n",
    "mySinglyLinkedList | Add-Member -MemberType NoteProperty -Name Head -Value $myLLNode\n"
   ]
  },
  {
   "cell_type": "markdown",
   "metadata": {},
   "source": [
    "Obviously, this is interpreted code that is executed serially, and therefore a little awkward. Using objects in PowerShell is not as robust as object-oriented languages like C# because it doesn't closely follow the object-oriented programming paradim.\n",
    "\n",
    "That is enough multi-language fiddling for now."
   ]
  },
  {
   "cell_type": "markdown",
   "metadata": {},
   "source": [
    "The Polyglot Notebook documentation states it can be connected to SQL and 'Kusto Clusters'. Simply add any necessary Package(s), write the connection string code, then start writing queries!"
   ]
  },
  {
   "cell_type": "markdown",
   "metadata": {},
   "source": [
    "Documentation is critical to any software project.\n",
    "\n",
    "- API documentation.\n",
    "- README, Contributing, etc.\n",
    "- Unit Tests document the expected behavior of the code.\n",
    "\n",
    "What Is Polyglot Programming?\n",
    "\n",
    "- Use of multiple languages.\n",
    "- Leverage each language strength for a particular task.\n",
    "\n",
    "Why would someone want to use Polyglot Notebooks?\n",
    "\n",
    "- Store many files within one notebook.\n",
    "- Minimize context-switching between IDE, Spreadsheets, Notepads, etc by keeping it all within a Polyglot Notebook.\n",
    "- Documentation needs to be updated as the systems change. Polyglot Notebooks helps keep the documentation in one place.\n",
    "- Supports many languages, including Python! .NET, JS, HTML, Mermain, SQL, and Kusto Query Language.\n",
    "- Ability to share variables within the notebook.\n",
    "- Extensible.\n",
    "- Simple to prototype ideas without a fully-fledged IDE.\n",
    "- When done editing Markdown, it is instantly rendered as a web page.\n",
    "\n",
    "How to Create and Run Notebooks:\n",
    "\n",
    "1. Meet the requirements: Latest .NET SDK, .NET Interactive, and the Polyglot Notebooks Extension.\n",
    "2. Open the Command Palette and type: `Polyglot Notebook` and select an available command such as \"Create new blank notebook\" or \"Open Notebook\". You can also start and stop the underlying Notebook Kernels.\n",
    "3. When creating new, select a file format `.dib` or `.ipynb`, then select preferred language.\n",
    "4. Select a Kernel. The .NET Interactive Kernel provides data sharing features, and multi-lingual support.\n",
    "5. Add a Code Cell: Click `+ Code` on-screen. Start adding code to the code cell.\n",
    "6. Run a Code Cell: Click the play :arrow_forward: button.\n",
    "7. Clear output of cells: Click the waste basket :waste_basket: button.\n",
    "8. Output a value: End the script with an Expression (an assigned variable name without a semicolon) at the end of the code cell.\n",
    "9. Input a value from another Code Cell to another: `#!set --value @csharp:name --name name` where name is the literal name of the value in the _other_ Code Cell, and the name of the variable now available in the _current_ Code Cell.\n",
    "\n",
    "Explore Polyglot Notebooks features:\n",
    "\n",
    "- Variable sharing: Output an Expression in one Code Cell for other Code Cells to use.\n",
    "- Commands: Various functions help with displaying data. `name.Display()` will display the value of `name`.\n",
    "- Mermaid: Render charts and diagrams.\n",
    "- File Format `.dib`: Plain text file type. Does not store output values, so is safe for outputting API Keys and other secret values.\n",
    "- File Format `.ipynb`: Plain text file type. Retains input cells and stores output. Simpler to share files with others. Users receiving files _do not have to run code cells_ to see results.\n",
    "- Magic Commands: Get the Time, connect a data source, or share code cell values. Prefix code with `#!` followed by the command.\n",
    "\n",
    "Polyglot Notebooks Terminology:\n",
    "\n",
    "- Cells: Represent blocks of differing content such as code or markdown.\n",
    "- Expression: An initialized, assigned variable name on the last row of code with no semicolon."
   ]
  },
  {
   "cell_type": "markdown",
   "metadata": {},
   "source": [
    "## Sharing Values\n",
    "\n",
    "Importing can be done several ways, but requires another Code Cell to end in an Expression.\n",
    "\n",
    "Code sharing can also be done visually by selecting the `Variables` menu at the top of the Polyglot Notebooks window, and selecting an Action, and choosing a language option. This saves you the trouble of having to remember and type out the Magic Commands."
   ]
  },
  {
   "cell_type": "code",
   "execution_count": 22,
   "metadata": {
    "dotnet_interactive": {
     "language": "csharp"
    },
    "polyglot_notebook": {
     "kernelName": "csharp"
    }
   },
   "outputs": [
    {
     "name": "stdout",
     "output_type": "stream",
     "text": [
      "The numbers are: 12345\n"
     ]
    },
    {
     "data": {
      "text/html": [
       "<div class=\"dni-plaintext\"><pre>[ 1, 2, 3, 4, 5 ]</pre></div><style>\r\n",
       ".dni-code-hint {\r\n",
       "    font-style: italic;\r\n",
       "    overflow: hidden;\r\n",
       "    white-space: nowrap;\r\n",
       "}\r\n",
       ".dni-treeview {\r\n",
       "    white-space: nowrap;\r\n",
       "}\r\n",
       ".dni-treeview td {\r\n",
       "    vertical-align: top;\r\n",
       "    text-align: start;\r\n",
       "}\r\n",
       "details.dni-treeview {\r\n",
       "    padding-left: 1em;\r\n",
       "}\r\n",
       "table td {\r\n",
       "    text-align: start;\r\n",
       "}\r\n",
       "table tr { \r\n",
       "    vertical-align: top; \r\n",
       "    margin: 0em 0px;\r\n",
       "}\r\n",
       "table tr td pre \r\n",
       "{ \r\n",
       "    vertical-align: top !important; \r\n",
       "    margin: 0em 0px !important;\r\n",
       "} \r\n",
       "table th {\r\n",
       "    text-align: start;\r\n",
       "}\r\n",
       "</style>"
      ]
     },
     "metadata": {},
     "output_type": "display_data"
    }
   ],
   "source": [
    "int[] numbers = [1, 2, 3, 4, 5];\n",
    "\n",
    "Console.Write(\"The numbers are: \");\n",
    "foreach (int number in numbers)\n",
    "{\n",
    "  Console.Write(number);\n",
    "}\n",
    "Console.WriteLine();\n",
    "numbers"
   ]
  },
  {
   "cell_type": "code",
   "execution_count": 23,
   "metadata": {
    "dotnet_interactive": {
     "language": "csharp"
    },
    "polyglot_notebook": {
     "kernelName": "csharp"
    }
   },
   "outputs": [
    {
     "name": "stdout",
     "output_type": "stream",
     "text": [
      "The numbers (again) are: 12345\n"
     ]
    }
   ],
   "source": [
    "#! set --value @csharp:int[] --name numbers\n",
    "\n",
    "Console.Write(\"The numbers (again) are: \");\n",
    "foreach (int number in numbers)\n",
    "{\n",
    "  Console.Write(number);\n",
    "}\n",
    "Console.WriteLine();"
   ]
  },
  {
   "cell_type": "code",
   "execution_count": 27,
   "metadata": {
    "dotnet_interactive": {
     "language": "javascript"
    },
    "polyglot_notebook": {
     "kernelName": "javascript"
    }
   },
   "outputs": [
    {
     "ename": "Error",
     "evalue": "Invalid or unexpected token",
     "output_type": "error",
     "traceback": [
      "Invalid or unexpected token"
     ]
    }
   ],
   "source": [
    "#! set --value @csharp:numbers[] --name numbers\n",
    "Console.Log(\"The numbers (yet again) are: \");\n",
    "number.forEach((number) => console.log(number));"
   ]
  },
  {
   "cell_type": "markdown",
   "metadata": {},
   "source": [
    "## Variables View\n",
    "\n",
    "Use Variables View at the top of the Polyglot Notebook window to view all stored variables."
   ]
  },
  {
   "cell_type": "markdown",
   "metadata": {},
   "source": [
    "## Gather User Input\n",
    "\n",
    "Ask the user for configuration, secrets, API Keys, etc. Collect the information using `@input` prefix and assign it to a variable."
   ]
  },
  {
   "cell_type": "code",
   "execution_count": null,
   "metadata": {
    "dotnet_interactive": {
     "language": "csharp"
    },
    "polyglot_notebook": {
     "kernelName": "csharp"
    }
   },
   "outputs": [],
   "source": [
    "#! set --name url --value @input:\"Please enter a URL\"\n",
    "Console.WriteLine($\"The entered URL is {url}\");"
   ]
  },
  {
   "cell_type": "markdown",
   "metadata": {},
   "source": [
    "## Direct Data Entry\n",
    "\n",
    "Store values of varying types by prefixing the variable with `#!`. The variable is not tied to any specific programming language, and can be made available through variable sharing, as described before."
   ]
  },
  {
   "cell_type": "code",
   "execution_count": null,
   "metadata": {
    "dotnet_interactive": {
     "language": "csharp"
    },
    "polyglot_notebook": {
     "kernelName": "csharp"
    }
   },
   "outputs": [],
   "source": [
    "#!set --value --name bigfootJSON\n",
    "{\n",
    "  \"EventTitle\": \"Bigfoot 2024\",\n",
    "  \"MessageNumber\": \"1\",\n",
    "  \"address\": \"k7rmz-11\",\n",
    "  \"Location\": \"WM_Wright Meadow (Rd.9327)\",\n",
    "  \"msgsubject\": \"Bigfoot 2024 Wright Meadow (Rd.9327) Message #1\",\n",
    "  \"numlines\": \"12\",\n",
    "  \"Comment\": \"Edited 105 out to 0917L.\",\n",
    "  \"TheCsvData\": [\n",
    "    \"106, DROP, 918, 01, WM\",\n",
    "    \"105, OUT, 918, 01, WM\",\n",
    "    \"104, DROP, 918, 01, WM\",\n",
    "    \"103, OUT, 918, 01, WM\",\n",
    "    \"102, DROP, 918, 31, WM\",\n",
    "    \"101, OUT, 918, 31, WM\",\n",
    "    \"106, IN, 918, 01, WM\",\n",
    "    \"105, IN, 918, 01, WM\",\n",
    "    \"104, IN, 918, 31, WM\",\n",
    "    \"103, IN, 917, 31, WM\",\n",
    "    \"102, IN, 917, 31, WM\",\n",
    "    \"101, IN, 917, 31, WM\"\n",
    "  ]\n",
    "}"
   ]
  },
  {
   "cell_type": "markdown",
   "metadata": {},
   "source": [
    "## Mermaid Code Flows\n",
    "\n",
    "Mermaid is a diagramming extension that renders charts and diagrams from text.\n",
    "\n",
    "Polyglot Notebooks natively incorporates this capability.\n",
    "\n",
    "Below is code lifted directly from [MSFT Learn](https://learn.microsoft.com/en-us/training/modules/polyglot-notebooks/6-document-your-code). I'll need to learn Mermaid in order to make my own. :smiley:"
   ]
  },
  {
   "cell_type": "code",
   "execution_count": null,
   "metadata": {
    "dotnet_interactive": {
     "language": "mermaid"
    },
    "polyglot_notebook": {
     "kernelName": "mermaid"
    }
   },
   "outputs": [],
   "source": [
    "class CheckoutService {\n",
    "  private \\_cart;\n",
    "  private \\_cardService;\n",
    "  private \\_shippingService;\n",
    "\n",
    "  public CheckoutService(\n",
    "      Cart cart,\n",
    "      CardService cardService,\n",
    "      ShippingService shippingService) {\n",
    "      this.\\_cart = cart;\n",
    "      this.\\_cardService = cardService;\n",
    "      this.\\_shippingService = shippingService;\n",
    "  }\n",
    "\n",
    "  public void Checkout() {\n",
    "      if(this.\\_cart.GetTotal() > 0) {\n",
    "          let responseCode = this.\\_cardService.Charge(new Card(\"Visa\", \"1234\"));\n",
    "\n",
    "          if (responseCode != 200) {\n",
    "              throw new Exception(\"Unable to charge card\");\n",
    "          }\n",
    "      \n",
    "          this.\\_shippingService.Ship(\"123 Main St\", this.\\_cart);\n",
    "      }\n",
    "  }\n",
    "}\n",
    "sequenceDiagram\n",
    "    CheckoutService ->> CardService: Charge(card)\n",
    "    CardService -->> CheckoutService: OK, payment cleared\n",
    "    CheckoutService -) ShippingService: Ship(cart)\n",
    "    ShippingService -->> CheckoutService: OK, \"shipping cart content\""
   ]
  }
 ],
 "metadata": {
  "kernelspec": {
   "display_name": ".NET (C#)",
   "language": "C#",
   "name": ".net-csharp"
  },
  "polyglot_notebook": {
   "kernelInfo": {
    "defaultKernelName": "csharp",
    "items": [
     {
      "aliases": [],
      "languageName": "csharp",
      "name": "csharp"
     }
    ]
   }
  }
 },
 "nbformat": 4,
 "nbformat_minor": 2
}
